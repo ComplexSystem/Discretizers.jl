{
 "metadata": {
  "language": "Julia",
  "name": "",
  "signature": "sha256:0c64f77c527d6369075f597614d293f64d969787aa5a0a0d2e07ff3866c6f006"
 },
 "nbformat": 3,
 "nbformat_minor": 0,
 "worksheets": [
  {
   "cells": [
    {
     "cell_type": "markdown",
     "metadata": {},
     "source": [
      "# Discretizers\n",
      "\n",
      "This package supports discretization methods and mapping functions.\n",
      "\n",
      "## Installation"
     ]
    },
    {
     "cell_type": "code",
     "collapsed": false,
     "input": [
      "Pkg.add(\"Discretizers\")"
     ],
     "language": "python",
     "metadata": {},
     "outputs": []
    },
    {
     "cell_type": "markdown",
     "metadata": {},
     "source": [
      "Once the installation is complete you can use it anywhere by running"
     ]
    },
    {
     "cell_type": "code",
     "collapsed": false,
     "input": [
      "using Discretizers"
     ],
     "language": "python",
     "metadata": {},
     "outputs": [],
     "prompt_number": 1
    },
    {
     "cell_type": "markdown",
     "metadata": {},
     "source": [
      "## Discretization\n",
      "\n",
      "### Categorical Labels\n",
      "\n",
      "You can construct an object for mapping labels to integer indeces"
     ]
    },
    {
     "cell_type": "code",
     "collapsed": false,
     "input": [
      "data = [:cat, :dog, :dog, :cat, :cat, :elephant]\n",
      "catdisc = CategoricalDiscretizer(data);"
     ],
     "language": "python",
     "metadata": {},
     "outputs": [],
     "prompt_number": 2
    },
    {
     "cell_type": "markdown",
     "metadata": {},
     "source": [
      "The resulting object can be used to encode your source labels to their categorical labels"
     ]
    },
    {
     "cell_type": "code",
     "collapsed": false,
     "input": [
      "println(\":cat becomes: \", encode(catdisc, :cat))\n",
      "println(\":dog becomes: \", encode(catdisc, :dog))\n",
      "println(\"data becomes: \", encode(catdisc, data))"
     ],
     "language": "python",
     "metadata": {},
     "outputs": [
      {
       "output_type": "stream",
       "stream": "stdout",
       "text": [
        ":cat becomes: 1"
       ]
      },
      {
       "output_type": "stream",
       "stream": "stdout",
       "text": [
        "\n",
        ":dog becomes: 2\n",
        "data becomes: [1,2,2,1,1,3]\n"
       ]
      }
     ],
     "prompt_number": 3
    },
    {
     "cell_type": "markdown",
     "metadata": {},
     "source": [
      "You can also transform back"
     ]
    },
    {
     "cell_type": "code",
     "collapsed": false,
     "input": [
      "println(\"1 becomes: \", decode(catdisc, 1))\n",
      "println(\"2 becomes: \", decode(catdisc, 2))\n",
      "println(\"[1,2,3] becomes: \", decode(catdisc, [1,2,3]))"
     ],
     "language": "python",
     "metadata": {},
     "outputs": [
      {
       "output_type": "stream",
       "stream": "stdout",
       "text": [
        "1 becomes: cat"
       ]
      },
      {
       "output_type": "stream",
       "stream": "stdout",
       "text": [
        "\n",
        "2 becomes: dog\n",
        "[1,2,3] becomes: [:cat,:dog,:elephant]\n"
       ]
      }
     ],
     "prompt_number": 4
    },
    {
     "cell_type": "markdown",
     "metadata": {},
     "source": [
      "\n",
      "The CategoricalDiscretizer works with any object type"
     ]
    },
    {
     "cell_type": "code",
     "collapsed": false,
     "input": [
      "CategoricalDiscretizer([\"A\", \"B\", \"C\"])\n",
      "CategoricalDiscretizer([5000, 1200, 100])\n",
      "CategoricalDiscretizer([:dog, \"hello world\", NaN]);"
     ],
     "language": "python",
     "metadata": {},
     "outputs": [],
     "prompt_number": 5
    },
    {
     "cell_type": "markdown",
     "metadata": {},
     "source": [
      "### Linear Discretization\n",
      "\n",
      "Linear discretization into a series of bins is supported as well\n",
      "\n",
      "Here we construct a linear discretizer that maps $[0,0.5) \\rightarrow 1$ and $[0.5,1] \\rightarrow 2$"
     ]
    },
    {
     "cell_type": "code",
     "collapsed": false,
     "input": [
      "bin_edges = [0.0,0.5,1.0]\n",
      "lindisc = LinearDiscretizer(bin_edges);"
     ],
     "language": "python",
     "metadata": {},
     "outputs": [],
     "prompt_number": 6
    },
    {
     "cell_type": "markdown",
     "metadata": {},
     "source": [
      "Encoding works the same way"
     ]
    },
    {
     "cell_type": "code",
     "collapsed": false,
     "input": [
      "println(\"0.2 becomes: \", encode(lindisc, 0.2))\n",
      "println(\"0.7 becomes: \", encode(lindisc, 0.7))\n",
      "println(\"0.5 becomes: \", encode(lindisc, 0.5))\n",
      "println(\"it works on arrays: \", encode(lindisc, [0.0,0.8,0.2]))"
     ],
     "language": "python",
     "metadata": {},
     "outputs": [
      {
       "output_type": "stream",
       "stream": "stdout",
       "text": [
        "0.2 becomes: 1"
       ]
      },
      {
       "output_type": "stream",
       "stream": "stdout",
       "text": [
        "\n",
        "0.7 becomes: 2\n",
        "0.5 becomes: 2\n",
        "it works on arrays: [1,2,1]\n"
       ]
      }
     ],
     "prompt_number": 7
    },
    {
     "cell_type": "markdown",
     "metadata": {},
     "source": [
      "Decoding is a bit different. Here we obtain the bin and sample from it uniformally"
     ]
    },
    {
     "cell_type": "code",
     "collapsed": false,
     "input": [
      "println(\"1 becomes: \", decode(lindisc, 1))\n",
      "println(\"2 becomes: \", decode(lindisc, 2))\n",
      "println(\"it works on arrays: \", decode(lindisc, [2,1,2]))"
     ],
     "language": "python",
     "metadata": {},
     "outputs": [
      {
       "output_type": "stream",
       "stream": "stdout",
       "text": [
        "1 becomes: 0."
       ]
      },
      {
       "output_type": "stream",
       "stream": "stdout",
       "text": [
        "16022506882123666\n",
        "2 becomes: 0.9685583452997502\n",
        "it works on arrays: [0.8603893534766647,0.07859144179702082,0.9584045710248809]\n"
       ]
      }
     ],
     "prompt_number": 8
    },
    {
     "cell_type": "markdown",
     "metadata": {},
     "source": [
      "Some other functions are supported"
     ]
    },
    {
     "cell_type": "code",
     "collapsed": false,
     "input": [
      "println(\"number of labels: \", nlabels(catdisc), \"  \", nlabels(lindisc))\n",
      "println(\"bin centers:      \", bincenters(lindisc))\n",
      "println(\"extrama of a bin: \", extrema(lindisc, 2))"
     ],
     "language": "python",
     "metadata": {},
     "outputs": [
      {
       "output_type": "stream",
       "stream": "stdout",
       "text": [
        "number of labels: 3"
       ]
      },
      {
       "output_type": "stream",
       "stream": "stdout",
       "text": [
        "  2\n",
        "bin centers:      [0.25,0.75]\n",
        "extrama of a bin: (0.5,1.0)\n"
       ]
      }
     ],
     "prompt_number": 9
    },
    {
     "cell_type": "markdown",
     "metadata": {},
     "source": [
      "Both discretizers can be constructed to map to other integer types"
     ]
    },
    {
     "cell_type": "code",
     "collapsed": false,
     "input": [
      "catdisc = CategoricalDiscretizer(data, Int32)\n",
      "lindisc = LinearDiscretizer(bin_edges, Uint8)\n",
      "encode(lindisc, 0.2)"
     ],
     "language": "python",
     "metadata": {},
     "outputs": [
      {
       "metadata": {},
       "output_type": "pyout",
       "prompt_number": 10,
       "text": [
        "0x01"
       ]
      }
     ],
     "prompt_number": 10
    },
    {
     "cell_type": "markdown",
     "metadata": {},
     "source": [
      "## Discretization Algorithms\n",
      "\n",
      "In many cases one would like to determine the bin edges for a Linear Discretizer automatically from data. This package supports several algorithms to do just that."
     ]
    },
    {
     "cell_type": "code",
     "collapsed": false,
     "input": [
      "nbins = 3\n",
      "data  = randn(1000)\n",
      "edges = binedges(DiscretizeUniformWidth(nbins), data)"
     ],
     "language": "python",
     "metadata": {},
     "outputs": [
      {
       "metadata": {},
       "output_type": "pyout",
       "prompt_number": 14,
       "text": [
        "4-element Array{Float64,1}:\n",
        " -3.59476\n",
        " -1.03547\n",
        "  1.52381\n",
        "  4.0831 "
       ]
      }
     ],
     "prompt_number": 14
    },
    {
     "cell_type": "markdown",
     "metadata": {},
     "source": [
      "DiscretizeUniformWidth takes the number of desired bins and breaks the range over the data into evenly spaced bins\n",
      "DiscretizeUniformCount takes the original data, sorts it, and breaks it into bins of even count"
     ]
    },
    {
     "cell_type": "code",
     "collapsed": false,
     "input": [
      "edges = binedges(DiscretizeUniformCount(nbins), data)"
     ],
     "language": "python",
     "metadata": {},
     "outputs": [
      {
       "metadata": {},
       "output_type": "pyout",
       "prompt_number": 15,
       "text": [
        "4-element Array{Float64,1}:\n",
        " -3.59476 \n",
        " -0.431955\n",
        "  0.409398\n",
        "  4.0831  "
       ]
      }
     ],
     "prompt_number": 15
    },
    {
     "cell_type": "markdown",
     "metadata": {},
     "source": [
      "A third algorithm, MODL, was implemented to find optimal bins given both a continuous data set and a labelled discrete data set. "
     ]
    },
    {
     "cell_type": "code",
     "collapsed": false,
     "input": [
      "data = [randn(100), randn(100)+1.0]\n",
      "labels = [fill(:cat, 100), fill(:dog, 100)]\n",
      "integer_labels = encode(CategoricalDiscretizer([:cat, :dog]), labels)\n",
      "edges = binedges(DiscretizeMODL_Optimal(), data, integer_labels)"
     ],
     "language": "python",
     "metadata": {},
     "outputs": [
      {
       "metadata": {},
       "output_type": "pyout",
       "prompt_number": 13,
       "text": [
        "3-element Array{FloatingPoint,1}:\n",
        " -2.29837 \n",
        "  0.119088\n",
        "  3.40968 "
       ]
      }
     ],
     "prompt_number": 13
    },
    {
     "cell_type": "markdown",
     "metadata": {},
     "source": [
      "More information on MODL can be found [here](http://nbviewer.ipython.org/github/sisl/Discretizers.jl/blob/master/doc/MODL/DiscretizationMODL.ipynb)."
     ]
    },
    {
     "cell_type": "code",
     "collapsed": false,
     "input": [],
     "language": "python",
     "metadata": {},
     "outputs": []
    }
   ],
   "metadata": {}
  }
 ]
}
